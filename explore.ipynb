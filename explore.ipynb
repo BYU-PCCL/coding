{
 "cells": [
  {
   "cell_type": "code",
   "execution_count": 1,
   "metadata": {},
   "outputs": [],
   "source": [
    "import pandas as pd"
   ]
  },
  {
   "cell_type": "code",
   "execution_count": 78,
   "metadata": {},
   "outputs": [],
   "source": [
    "gdf = pd.read_csv('data/Guardian Populism data.csv')"
   ]
  },
  {
   "cell_type": "code",
   "execution_count": 79,
   "metadata": {},
   "outputs": [],
   "source": [
    "cdf = pd.read_csv('data/Combined Populism data.csv', encoding='latin-1')"
   ]
  },
  {
   "cell_type": "code",
   "execution_count": 21,
   "metadata": {},
   "outputs": [
    {
     "data": {
      "text/html": [
       "<div>\n",
       "<style scoped>\n",
       "    .dataframe tbody tr th:only-of-type {\n",
       "        vertical-align: middle;\n",
       "    }\n",
       "\n",
       "    .dataframe tbody tr th {\n",
       "        vertical-align: top;\n",
       "    }\n",
       "\n",
       "    .dataframe thead th {\n",
       "        text-align: right;\n",
       "    }\n",
       "</style>\n",
       "<table border=\"1\" class=\"dataframe\">\n",
       "  <thead>\n",
       "    <tr style=\"text-align: right;\">\n",
       "      <th></th>\n",
       "      <th>QID</th>\n",
       "      <th>AGE</th>\n",
       "      <th>IDEO3</th>\n",
       "      <th>EDUC</th>\n",
       "      <th>INCOME</th>\n",
       "      <th>RELIG</th>\n",
       "      <th>PID7</th>\n",
       "      <th>MALE</th>\n",
       "      <th>WHITE</th>\n",
       "      <th>RACE</th>\n",
       "      <th>...</th>\n",
       "      <th>badelite_n</th>\n",
       "      <th>goodpeople_n</th>\n",
       "      <th>badactor</th>\n",
       "      <th>badelite</th>\n",
       "      <th>goodpeople</th>\n",
       "      <th>populism</th>\n",
       "      <th>STUDY</th>\n",
       "      <th>TEXT</th>\n",
       "      <th>TREATMENT</th>\n",
       "      <th>IDEO</th>\n",
       "    </tr>\n",
       "  </thead>\n",
       "  <tbody>\n",
       "    <tr>\n",
       "      <th>0</th>\n",
       "      <td>R_006siEFaAZgOBNz</td>\n",
       "      <td>35-44</td>\n",
       "      <td>Moderate</td>\n",
       "      <td>College graduate</td>\n",
       "      <td>Between $100,000 and $149,999</td>\n",
       "      <td>None/Not Religious</td>\n",
       "      <td>Independent</td>\n",
       "      <td>female</td>\n",
       "      <td>White</td>\n",
       "      <td>White</td>\n",
       "      <td>...</td>\n",
       "      <td>NaN</td>\n",
       "      <td>NaN</td>\n",
       "      <td>NaN</td>\n",
       "      <td>NaN</td>\n",
       "      <td>NaN</td>\n",
       "      <td>0</td>\n",
       "      <td>March2016</td>\n",
       "      <td></td>\n",
       "      <td>0.0</td>\n",
       "      <td>NaN</td>\n",
       "    </tr>\n",
       "    <tr>\n",
       "      <th>1</th>\n",
       "      <td>R_00Oelnrg2pBKbNr</td>\n",
       "      <td>18-24</td>\n",
       "      <td>Liberal</td>\n",
       "      <td>Some college</td>\n",
       "      <td>Under $15,000</td>\n",
       "      <td>Atheist</td>\n",
       "      <td>Strong Democrat</td>\n",
       "      <td>female</td>\n",
       "      <td>White</td>\n",
       "      <td>White</td>\n",
       "      <td>...</td>\n",
       "      <td>1.0</td>\n",
       "      <td>0.0</td>\n",
       "      <td>1.0</td>\n",
       "      <td>1.0</td>\n",
       "      <td>0.0</td>\n",
       "      <td>0</td>\n",
       "      <td>March2016</td>\n",
       "      <td>businessmen Businessmen care about the economy...</td>\n",
       "      <td>1.0</td>\n",
       "      <td>NaN</td>\n",
       "    </tr>\n",
       "    <tr>\n",
       "      <th>2</th>\n",
       "      <td>R_01UYcK9kRaI7x1r</td>\n",
       "      <td>65+</td>\n",
       "      <td>Conservative</td>\n",
       "      <td>Graduate degree</td>\n",
       "      <td>Between $100,000 and $149,999</td>\n",
       "      <td>Jewish</td>\n",
       "      <td>Independent</td>\n",
       "      <td>male</td>\n",
       "      <td>White</td>\n",
       "      <td>White</td>\n",
       "      <td>...</td>\n",
       "      <td>1.0</td>\n",
       "      <td>0.0</td>\n",
       "      <td>1.0</td>\n",
       "      <td>1.0</td>\n",
       "      <td>1.0</td>\n",
       "      <td>1</td>\n",
       "      <td>March2016</td>\n",
       "      <td>weakness of our president - he invited it firs...</td>\n",
       "      <td>0.0</td>\n",
       "      <td>NaN</td>\n",
       "    </tr>\n",
       "    <tr>\n",
       "      <th>3</th>\n",
       "      <td>R_02G5dWQ3ydwPJNb</td>\n",
       "      <td>45-54</td>\n",
       "      <td>Liberal</td>\n",
       "      <td>High School/GED</td>\n",
       "      <td>Between $50,000 and $74,999</td>\n",
       "      <td>Other</td>\n",
       "      <td>Independent leaning Republican</td>\n",
       "      <td>male</td>\n",
       "      <td>White</td>\n",
       "      <td>White</td>\n",
       "      <td>...</td>\n",
       "      <td>0.0</td>\n",
       "      <td>0.0</td>\n",
       "      <td>1.0</td>\n",
       "      <td>0.0</td>\n",
       "      <td>0.0</td>\n",
       "      <td>0</td>\n",
       "      <td>March2016</td>\n",
       "      <td>Isis Terrism can not be tolerated in any count...</td>\n",
       "      <td>1.0</td>\n",
       "      <td>NaN</td>\n",
       "    </tr>\n",
       "    <tr>\n",
       "      <th>4</th>\n",
       "      <td>R_02kdZfIPePAY8y9</td>\n",
       "      <td>18-24</td>\n",
       "      <td>Liberal</td>\n",
       "      <td>High School/GED</td>\n",
       "      <td>$200,000 or more</td>\n",
       "      <td>Other</td>\n",
       "      <td>Other</td>\n",
       "      <td>female</td>\n",
       "      <td>White</td>\n",
       "      <td>White</td>\n",
       "      <td>...</td>\n",
       "      <td>1.0</td>\n",
       "      <td>0.0</td>\n",
       "      <td>1.0</td>\n",
       "      <td>1.0</td>\n",
       "      <td>0.5</td>\n",
       "      <td>1</td>\n",
       "      <td>March2016</td>\n",
       "      <td>White people, cishet people, abled people, etc...</td>\n",
       "      <td>1.0</td>\n",
       "      <td>NaN</td>\n",
       "    </tr>\n",
       "  </tbody>\n",
       "</table>\n",
       "<p>5 rows × 25 columns</p>\n",
       "</div>"
      ],
      "text/plain": [
       "                 QID    AGE         IDEO3              EDUC  \\\n",
       "0  R_006siEFaAZgOBNz  35-44      Moderate  College graduate   \n",
       "1  R_00Oelnrg2pBKbNr  18-24       Liberal      Some college   \n",
       "2  R_01UYcK9kRaI7x1r    65+  Conservative   Graduate degree   \n",
       "3  R_02G5dWQ3ydwPJNb  45-54       Liberal   High School/GED   \n",
       "4  R_02kdZfIPePAY8y9  18-24       Liberal   High School/GED   \n",
       "\n",
       "                          INCOME               RELIG  \\\n",
       "0  Between $100,000 and $149,999  None/Not Religious   \n",
       "1                  Under $15,000             Atheist   \n",
       "2  Between $100,000 and $149,999              Jewish   \n",
       "3    Between $50,000 and $74,999               Other   \n",
       "4               $200,000 or more               Other   \n",
       "\n",
       "                             PID7    MALE  WHITE   RACE  ... badelite_n  \\\n",
       "0                     Independent  female  White  White  ...        NaN   \n",
       "1                 Strong Democrat  female  White  White  ...        1.0   \n",
       "2                     Independent    male  White  White  ...        1.0   \n",
       "3  Independent leaning Republican    male  White  White  ...        0.0   \n",
       "4                           Other  female  White  White  ...        1.0   \n",
       "\n",
       "   goodpeople_n  badactor  badelite  goodpeople  populism      STUDY  \\\n",
       "0           NaN       NaN       NaN         NaN         0  March2016   \n",
       "1           0.0       1.0       1.0         0.0         0  March2016   \n",
       "2           0.0       1.0       1.0         1.0         1  March2016   \n",
       "3           0.0       1.0       0.0         0.0         0  March2016   \n",
       "4           0.0       1.0       1.0         0.5         1  March2016   \n",
       "\n",
       "                                                TEXT  TREATMENT  IDEO  \n",
       "0                                                           0.0   NaN  \n",
       "1  businessmen Businessmen care about the economy...        1.0   NaN  \n",
       "2  weakness of our president - he invited it firs...        0.0   NaN  \n",
       "3  Isis Terrism can not be tolerated in any count...        1.0   NaN  \n",
       "4  White people, cishet people, abled people, etc...        1.0   NaN  \n",
       "\n",
       "[5 rows x 25 columns]"
      ]
     },
     "execution_count": 21,
     "metadata": {},
     "output_type": "execute_result"
    }
   ],
   "source": [
    "jdf = pd.read_csv('data/JOP - Combined Populism data.csv', encoding='latin-1')\n",
    "jdf.head()"
   ]
  },
  {
   "cell_type": "code",
   "execution_count": 22,
   "metadata": {},
   "outputs": [
    {
     "data": {
      "text/plain": [
       "Index(['QID', 'AGE', 'IDEO3', 'EDUC', 'INCOME', 'RELIG', 'PID7', 'MALE',\n",
       "       'WHITE', 'RACE', 'PID3', 'badactor_r', 'badelite_r', 'goodpeople_r',\n",
       "       'badactor_n', 'badelite_n', 'goodpeople_n', 'badactor', 'badelite',\n",
       "       'goodpeople', 'populism', 'STUDY', 'TEXT', 'TREATMENT', 'IDEO'],\n",
       "      dtype='object')"
      ]
     },
     "execution_count": 22,
     "metadata": {},
     "output_type": "execute_result"
    }
   ],
   "source": [
    "jdf.columns"
   ]
  },
  {
   "cell_type": "code",
   "execution_count": 25,
   "metadata": {},
   "outputs": [
    {
     "data": {
      "text/plain": [
       "0.9039812646370023"
      ]
     },
     "execution_count": 25,
     "metadata": {},
     "output_type": "execute_result"
    }
   ],
   "source": [
    "(jdf['goodpeople_n'] == jdf['goodpeople_r']).mean()"
   ]
  },
  {
   "cell_type": "code",
   "execution_count": null,
   "metadata": {},
   "outputs": [],
   "source": [
    "df = pd.read_csv(\"data/JOP - Combined Populism data.csv\", encoding=\"latin-1\")\n"
   ]
  },
  {
   "cell_type": "code",
   "execution_count": null,
   "metadata": {},
   "outputs": [],
   "source": [
    "\n",
    "jdf = jdf[\"QID badelite goodpeople TEXT populism\".split()]\n",
    "jdf = jdf.dropna()"
   ]
  },
  {
   "cell_type": "markdown",
   "metadata": {},
   "source": [
    "# Results"
   ]
  },
  {
   "cell_type": "code",
   "execution_count": null,
   "metadata": {},
   "outputs": [],
   "source": [
    "import pandas as pd\n",
    "import numpy as np\n",
    "from matplotlib import pyplot as plt\n",
    "import seaborn"
   ]
  },
  {
   "cell_type": "markdown",
   "metadata": {},
   "source": [
    "# Results 5-5"
   ]
  },
  {
   "cell_type": "code",
   "execution_count": 77,
   "metadata": {},
   "outputs": [],
   "source": [
    "rdf = pd.read_pickle('data/combined_populism_results5-5.pkl')"
   ]
  },
  {
   "cell_type": "code",
   "execution_count": 79,
   "metadata": {},
   "outputs": [
    {
     "data": {
      "text/plain": [
       "Index(['QID', 'AGE', 'IDEO3', 'EDUC', 'INCOME', 'RELIG', 'PID7', 'MALE',\n",
       "       'WHITE', 'RACE', 'PID3', 'badactor_r', 'badelite_r', 'goodpeople_r',\n",
       "       'badactor_n', 'badelite_n', 'goodpeople_n', 'badactor', 'badelite',\n",
       "       'goodpeople', 'populism', 'STUDY', 'TEXT', 'TREATMENT', 'IDEO',\n",
       "       'guess_badelite_gpt3', 'guess_badelite1_gpt3', 'guess_badelite2_gpt3',\n",
       "       'guess_goodpeople_gpt3', 'guess_goodpeople1_gpt3',\n",
       "       'guess_goodpeople2_gpt3', 'guess_goodpeople3_gpt3',\n",
       "       'guess_goodpeople4_gpt3', 'guess_badelite_gpt3_criteria',\n",
       "       'guess_goodpeople_gpt3_criteria', 'guess_populism_gpt3_criteria',\n",
       "       'guess_populism_gpt3', 'gpt3populismaccuracycriteria',\n",
       "       'gpt3populismaccuracy'],\n",
       "      dtype='object')"
      ]
     },
     "execution_count": 79,
     "metadata": {},
     "output_type": "execute_result"
    }
   ],
   "source": [
    "rdf.columns"
   ]
  },
  {
   "cell_type": "markdown",
   "metadata": {},
   "source": [
    "# Using 6 sub-classifiers"
   ]
  },
  {
   "cell_type": "code",
   "execution_count": 80,
   "metadata": {},
   "outputs": [
    {
     "data": {
      "text/plain": [
       "0.6900763358778625"
      ]
     },
     "execution_count": 80,
     "metadata": {},
     "output_type": "execute_result"
    }
   ],
   "source": [
    "rdf.gpt3populismaccuracycriteria.mean()"
   ]
  },
  {
   "cell_type": "code",
   "execution_count": 87,
   "metadata": {},
   "outputs": [
    {
     "data": {
      "image/png": "[encoded data removed]",
      "text/plain": [
       "<Figure size 432x288 with 2 Axes>"
      ]
     },
     "metadata": {
      "needs_background": "light"
     },
     "output_type": "display_data"
    },
    {
     "data": {
      "image/png": "[encoded data removed]",
      "text/plain": [
       "<Figure size 432x288 with 2 Axes>"
      ]
     },
     "metadata": {
      "needs_background": "light"
     },
     "output_type": "display_data"
    }
   ],
   "source": [
    "#Calculate the agreement between 'guess_badelite_gpt3_criteria', 'badelite_r', and 'badelite_n'\n",
    "agreement = np.zeros((3,3))\n",
    "agreement[0,0] = 1 #GPT3\n",
    "agreement[1,1] = 1 #coder r\n",
    "agreement[2,2] = 1 #coder n\n",
    "agreement[0,1] = agreement[1,0] = (rdf.guess_badelite_gpt3_criteria == rdf.badelite_r).mean()\n",
    "agreement[0,2] = agreement[2,0] = (rdf.guess_badelite_gpt3_criteria == rdf.badelite_n).mean()\n",
    "agreement[1,2] = agreement[2,1] = (rdf.badelite_n == rdf.badelite_r).mean()\n",
    "seaborn.heatmap(agreement, vmin=0, vmax=1, annot=True, xticklabels=['GPT3', 'coder r', 'coder n'], yticklabels=['GPT3', 'coder r', 'coder n'])\n",
    "plt.title('badelite agreement')\n",
    "plt.show()\n",
    "agreement[0,1] = agreement[1,0] = (rdf.guess_goodpeople_gpt3_criteria == rdf.goodpeople_r).mean()\n",
    "agreement[0,2] = agreement[2,0] = (rdf.guess_goodpeople_gpt3_criteria == rdf.goodpeople_n).mean()\n",
    "agreement[1,2] = agreement[2,1] = (rdf.goodpeople_r == rdf.goodpeople_n).mean()\n",
    "seaborn.heatmap(agreement, vmin=0, vmax=1, annot=True, xticklabels=['GPT3', 'coder r', 'coder n'], yticklabels=['GPT3', 'coder r', 'coder n'])\n",
    "plt.title('goodpeople agreement')\n",
    "plt.show()"
   ]
  },
  {
   "cell_type": "markdown",
   "metadata": {},
   "source": [
    "# Bucket classifiers"
   ]
  },
  {
   "cell_type": "code",
   "execution_count": null,
   "metadata": {},
   "outputs": [
    {
     "data": {
      "text/plain": [
       "0.7519083969465649"
      ]
     },
     "metadata": {},
     "output_type": "display_data"
    }
   ],
   "source": [
    "rdf.gpt3populismaccuracy.mean()"
   ]
  },
  {
   "cell_type": "code",
   "execution_count": null,
   "metadata": {},
   "outputs": [
    {
     "data": {
      "text/plain": [
       "0.667175572519084"
      ]
     },
     "metadata": {},
     "output_type": "display_data"
    }
   ],
   "source": [
    "rdf.gpt3goodpeopleaccuracycorrected.mean()"
   ]
  },
  {
   "cell_type": "code",
   "execution_count": null,
   "metadata": {},
   "outputs": [
    {
     "data": {
      "text/plain": [
       "0.767175572519084"
      ]
     },
     "metadata": {},
     "output_type": "display_data"
    }
   ],
   "source": [
    "rdf.gpt3populismaccuracy.mean()"
   ]
  },
  {
   "cell_type": "code",
   "execution_count": 88,
   "metadata": {},
   "outputs": [
    {
     "data": {
      "image/png": "[encoded data removed]",
      "text/plain": [
       "<Figure size 432x288 with 2 Axes>"
      ]
     },
     "metadata": {
      "needs_background": "light"
     },
     "output_type": "display_data"
    },
    {
     "data": {
      "image/png": "[encoded data removed]",
      "text/plain": [
       "<Figure size 432x288 with 2 Axes>"
      ]
     },
     "metadata": {
      "needs_background": "light"
     },
     "output_type": "display_data"
    }
   ],
   "source": [
    "agreement[0,1] = agreement[1,0] = (rdf.guess_badelite_gpt3 == rdf.badelite_r).mean()\n",
    "agreement[0,2] = agreement[2,0] = (rdf.guess_badelite_gpt3 == rdf.badelite_n).mean()\n",
    "agreement[1,2] = agreement[2,1] = (rdf.badelite_n == rdf.badelite_r).mean()\n",
    "seaborn.heatmap(agreement, vmin=0, vmax=1, annot=True, xticklabels=['GPT3', 'coder r', 'coder n'], yticklabels=['GPT3', 'coder r', 'coder n'])\n",
    "plt.title('badelite agreement')\n",
    "plt.show()\n",
    "agreement[0,1] = agreement[1,0] = (rdf.guess_goodpeople_gpt3 == rdf.goodpeople_r).mean()\n",
    "agreement[0,2] = agreement[2,0] = (rdf.guess_goodpeople_gpt3 == rdf.goodpeople_n).mean()\n",
    "agreement[1,2] = agreement[2,1] = (rdf.goodpeople_r == rdf.goodpeople_n).mean()\n",
    "seaborn.heatmap(agreement, vmin=0, vmax=1, annot=True, xticklabels=['GPT3', 'coder r', 'coder n'], yticklabels=['GPT3', 'coder r', 'coder n'])\n",
    "plt.title('goodpeople agreement')\n",
    "plt.show()\n"
   ]
  },
  {
   "cell_type": "markdown",
   "metadata": {},
   "source": [
    "# Results 5-12"
   ]
  },
  {
   "cell_type": "code",
   "execution_count": 93,
   "metadata": {},
   "outputs": [],
   "source": [
    "rdf = pd.read_pickle('data/combined_populism_results.pkl')"
   ]
  },
  {
   "cell_type": "code",
   "execution_count": 94,
   "metadata": {},
   "outputs": [
    {
     "data": {
      "text/plain": [
       "Index(['QID', 'AGE', 'IDEO3', 'EDUC', 'INCOME', 'RELIG', 'PID7', 'MALE',\n",
       "       'WHITE', 'RACE', 'PID3', 'badactor_r', 'badelite_r', 'goodpeople_r',\n",
       "       'badactor_n', 'badelite_n', 'goodpeople_n', 'badactor', 'badelite',\n",
       "       'goodpeople', 'populism', 'STUDY', 'TEXT', 'TREATMENT', 'IDEO',\n",
       "       'goodpeoplecorrected', 'guess_badelite_gpt3', 'guess_badelite1_gpt3',\n",
       "       'guess_badelite2_gpt3', 'guess_goodpeople_gpt3',\n",
       "       'guess_goodpeople1_gpt3', 'guess_goodpeople2_gpt3',\n",
       "       'guess_goodpeople3_gpt3', 'guess_goodpeople4_gpt3',\n",
       "       'guess_badelite_gpt3_criteria', 'guess_goodpeople_gpt3_criteria',\n",
       "       'guess_populism_gpt3_criteria', 'gpt3goodpeopleaccuracycriteria',\n",
       "       'gpt3goodpeopleaccuracycriteriacorrected',\n",
       "       'gpt3badelitecriteriaaccuracy', 'gpt3populismaccuracycriteria',\n",
       "       'guess_populism_gpt3', 'gpt3goodpeopleaccuracy',\n",
       "       'gpt3goodpeopleaccuracycorrected', 'gpt3badeliteaccuracy',\n",
       "       'gpt3populismaccuracy'],\n",
       "      dtype='object')"
      ]
     },
     "execution_count": 94,
     "metadata": {},
     "output_type": "execute_result"
    }
   ],
   "source": [
    "rdf.columns"
   ]
  },
  {
   "cell_type": "markdown",
   "metadata": {},
   "source": [
    "# Using 6 sub-classifiers"
   ]
  },
  {
   "cell_type": "code",
   "execution_count": 95,
   "metadata": {},
   "outputs": [
    {
     "data": {
      "text/plain": [
       "0.5244274809160305"
      ]
     },
     "execution_count": 95,
     "metadata": {},
     "output_type": "execute_result"
    }
   ],
   "source": [
    "rdf.gpt3goodpeopleaccuracycriteria.mean()"
   ]
  },
  {
   "cell_type": "code",
   "execution_count": 96,
   "metadata": {},
   "outputs": [
    {
     "data": {
      "text/plain": [
       "0.40076335877862596"
      ]
     },
     "execution_count": 96,
     "metadata": {},
     "output_type": "execute_result"
    }
   ],
   "source": [
    "\n",
    "rdf.gpt3goodpeopleaccuracycriteriacorrected.mean()"
   ]
  },
  {
   "cell_type": "code",
   "execution_count": 71,
   "metadata": {},
   "outputs": [
    {
     "data": {
      "text/plain": [
       "0.7305343511450382"
      ]
     },
     "execution_count": 71,
     "metadata": {},
     "output_type": "execute_result"
    }
   ],
   "source": [
    "rdf.gpt3badelitecriteriaaccuracy.mean()"
   ]
  },
  {
   "cell_type": "code",
   "execution_count": 72,
   "metadata": {},
   "outputs": [
    {
     "data": {
      "text/plain": [
       "0.6900763358778625"
      ]
     },
     "execution_count": 72,
     "metadata": {},
     "output_type": "execute_result"
    }
   ],
   "source": [
    "rdf.gpt3populismaccuracycriteria.mean()"
   ]
  },
  {
   "cell_type": "code",
   "execution_count": 97,
   "metadata": {},
   "outputs": [
    {
     "data": {
      "image/png": "[encoded data removed]",
      "text/plain": [
       "<Figure size 432x288 with 2 Axes>"
      ]
     },
     "metadata": {
      "needs_background": "light"
     },
     "output_type": "display_data"
    },
    {
     "data": {
      "image/png": "[encoded data removed]",
      "text/plain": [
       "<Figure size 432x288 with 2 Axes>"
      ]
     },
     "metadata": {
      "needs_background": "light"
     },
     "output_type": "display_data"
    }
   ],
   "source": [
    "#Calculate the agreement between 'guess_badelite_gpt3_criteria', 'badelite_r', and 'badelite_n'\n",
    "agreement = np.zeros((3,3))\n",
    "agreement[0,0] = 1 #GPT3\n",
    "agreement[1,1] = 1 #coder r\n",
    "agreement[2,2] = 1 #coder n\n",
    "agreement[0,1] = agreement[1,0] = (rdf.guess_badelite_gpt3_criteria == rdf.badelite_r).mean()\n",
    "agreement[0,2] = agreement[2,0] = (rdf.guess_badelite_gpt3_criteria == rdf.badelite_n).mean()\n",
    "agreement[1,2] = agreement[2,1] = (rdf.badelite_n == rdf.badelite_r).mean()\n",
    "seaborn.heatmap(agreement, vmin=0, vmax=1, annot=True, xticklabels=['GPT3', 'coder r', 'coder n'], yticklabels=['GPT3', 'coder r', 'coder n'])\n",
    "plt.title('badelite agreement')\n",
    "plt.show()\n",
    "agreement[0,1] = agreement[1,0] = (rdf.guess_goodpeople_gpt3_criteria == rdf.goodpeople_r).mean()\n",
    "agreement[0,2] = agreement[2,0] = (rdf.guess_goodpeople_gpt3_criteria == rdf.goodpeople_n).mean()\n",
    "agreement[1,2] = agreement[2,1] = (rdf.goodpeople_r == rdf.goodpeople_n).mean()\n",
    "seaborn.heatmap(agreement, vmin=0, vmax=1, annot=True, xticklabels=['GPT3', 'coder r', 'coder n'], yticklabels=['GPT3', 'coder r', 'coder n'])\n",
    "plt.title('goodpeople agreement')\n",
    "plt.show()\n"
   ]
  },
  {
   "cell_type": "markdown",
   "metadata": {},
   "source": [
    "# Bucket classifiers"
   ]
  },
  {
   "cell_type": "code",
   "execution_count": 74,
   "metadata": {},
   "outputs": [
    {
     "data": {
      "text/plain": [
       "0.6068702290076335"
      ]
     },
     "execution_count": 74,
     "metadata": {},
     "output_type": "execute_result"
    }
   ],
   "source": [
    "\n",
    "rdf.gpt3goodpeopleaccuracy.mean()\n"
   ]
  },
  {
   "cell_type": "code",
   "execution_count": 75,
   "metadata": {},
   "outputs": [
    {
     "data": {
      "text/plain": [
       "0.667175572519084"
      ]
     },
     "execution_count": 75,
     "metadata": {},
     "output_type": "execute_result"
    }
   ],
   "source": [
    "rdf.gpt3goodpeopleaccuracycorrected.mean()"
   ]
  },
  {
   "cell_type": "code",
   "execution_count": 76,
   "metadata": {},
   "outputs": [
    {
     "data": {
      "text/plain": [
       "0.767175572519084"
      ]
     },
     "execution_count": 76,
     "metadata": {},
     "output_type": "execute_result"
    }
   ],
   "source": [
    "rdf.gpt3populismaccuracy.mean()"
   ]
  },
  {
   "cell_type": "code",
   "execution_count": 102,
   "metadata": {},
   "outputs": [
    {
     "data": {
      "image/png": "[encoded data removed]",
      "text/plain": [
       "<Figure size 432x288 with 2 Axes>"
      ]
     },
     "metadata": {
      "needs_background": "light"
     },
     "output_type": "display_data"
    },
    {
     "data": {
      "image/png": "[encoded data removed]",
      "text/plain": [
       "<Figure size 432x288 with 2 Axes>"
      ]
     },
     "metadata": {
      "needs_background": "light"
     },
     "output_type": "display_data"
    },
    {
     "data": {
      "image/png": "[encoded data removed]",
      "text/plain": [
       "<Figure size 432x288 with 2 Axes>"
      ]
     },
     "metadata": {
      "needs_background": "light"
     },
     "output_type": "display_data"
    },
    {
     "name": "stdout",
     "output_type": "stream",
     "text": [
      "0.6519083969465649\n",
      "0.667175572519084\n"
     ]
    }
   ],
   "source": [
    "agreement[0,1] = agreement[1,0] = (rdf.guess_badelite_gpt3 == rdf.badelite_r).mean()\n",
    "agreement[0,2] = agreement[2,0] = (rdf.guess_badelite_gpt3 == rdf.badelite_n).mean()\n",
    "agreement[1,2] = agreement[2,1] = (rdf.badelite_n == rdf.badelite_r).mean()\n",
    "seaborn.heatmap(agreement, vmin=0, vmax=1, annot=True, xticklabels=['GPT3', 'coder r', 'coder n'], yticklabels=['GPT3', 'coder r', 'coder n'])\n",
    "plt.title('badelite agreement')\n",
    "plt.show()\n",
    "agreement[0,1] = agreement[1,0] = (rdf.guess_goodpeople_gpt3 == rdf.goodpeople_r).mean()\n",
    "agreement[0,2] = agreement[2,0] = (rdf.guess_goodpeople_gpt3 == rdf.goodpeople_n).mean()\n",
    "agreement[1,2] = agreement[2,1] = (rdf.goodpeople_r == rdf.goodpeople_n).mean()\n",
    "seaborn.heatmap(agreement, vmin=0, vmax=1, annot=True, xticklabels=['GPT3', 'coder r', 'coder n'], yticklabels=['GPT3', 'coder r', 'coder n'])\n",
    "plt.title('goodpeople agreement')\n",
    "plt.show()\n",
    "\n",
    "oldrdf = pd.read_pickle('data/combined_populism_results5-5.pkl')\n",
    "agreement[0,1] = agreement[1,0] = (oldrdf.guess_goodpeople_gpt3 == oldrdf.goodpeople_r).mean()\n",
    "agreement[0,2] = agreement[2,0] = (oldrdf.guess_goodpeople_gpt3 == oldrdf.goodpeople_n).mean()\n",
    "agreement[1,2] = agreement[2,1] = (oldrdf.goodpeople_r == oldrdf.goodpeople_n).mean()\n",
    "seaborn.heatmap(agreement, vmin=0, vmax=1, annot=True, xticklabels=['GPT3', 'coder r', 'coder n'], yticklabels=['GPT3', 'coder r', 'coder n'])\n",
    "plt.title('goodpeople agreement w o good people specification')\n",
    "plt.show()\n",
    "\n",
    "print((oldrdf.guess_goodpeople_gpt3 == rdf.goodpeoplecorrected).mean())\n",
    "print((rdf.guess_goodpeople_gpt3 == rdf.goodpeoplecorrected).mean())"
   ]
  },
  {
   "cell_type": "markdown",
   "metadata": {},
   "source": [
    "Histograms of probabilities for codes"
   ]
  },
  {
   "cell_type": "code",
   "execution_count": 104,
   "metadata": {},
   "outputs": [
    {
     "data": {
      "image/png": "[encoded data removed]",
      "text/plain": [
       "<Figure size 432x288 with 1 Axes>"
      ]
     },
     "metadata": {
      "needs_background": "light"
     },
     "output_type": "display_data"
    },
    {
     "data": {
      "image/png": "[encoded data removed]",
      "text/plain": [
       "<Figure size 432x288 with 1 Axes>"
      ]
     },
     "metadata": {
      "needs_background": "light"
     },
     "output_type": "display_data"
    },
    {
     "data": {
      "image/png": "[encoded data removed]",
      "text/plain": [
       "<Figure size 432x288 with 1 Axes>"
      ]
     },
     "metadata": {
      "needs_background": "light"
     },
     "output_type": "display_data"
    },
    {
     "data": {
      "image/png": "[encoded data removed]",
      "text/plain": [
       "<Figure size 432x288 with 1 Axes>"
      ]
     },
     "metadata": {
      "needs_background": "light"
     },
     "output_type": "display_data"
    },
    {
     "data": {
      "image/png": "[encoded data removed]",
      "text/plain": [
       "<Figure size 432x288 with 1 Axes>"
      ]
     },
     "metadata": {
      "needs_background": "light"
     },
     "output_type": "display_data"
    },
    {
     "data": {
      "image/png": "[encoded data removed]",
      "text/plain": [
       "<Figure size 432x288 with 1 Axes>"
      ]
     },
     "metadata": {
      "needs_background": "light"
     },
     "output_type": "display_data"
    },
    {
     "data": {
      "image/png": "[encoded data removed]",
      "text/plain": [
       "<Figure size 432x288 with 1 Axes>"
      ]
     },
     "metadata": {
      "needs_background": "light"
     },
     "output_type": "display_data"
    },
    {
     "data": {
      "image/png": "[encoded data removed]",
      "text/plain": [
       "<Figure size 432x288 with 1 Axes>"
      ]
     },
     "metadata": {
      "needs_background": "light"
     },
     "output_type": "display_data"
    }
   ],
   "source": [
    "criteria = \"badelite badelite1 badelite2 goodpeople goodpeople1 goodpeople2 goodpeople3 goodpeople4\".split()\n",
    "for criterion in criteria:\n",
    "    path = f\"data/{criterion}/ds_exp_results_text-davinci-002_2022-05-05_processed.pkl\"\n",
    "    cdf = pd.read_pickle(path)\n",
    "    weight_true = []\n",
    "    for i, row in cdf.iterrows():\n",
    "        weight_true.append(row.probs['true'])\n",
    "    seaborn.histplot(weight_true)\n",
    "    plt.title(f\"{criterion} true weights\")\n",
    "    plt.show()"
   ]
  },
  {
   "cell_type": "code",
   "execution_count": 6,
   "metadata": {},
   "outputs": [
    {
     "data": {
      "text/html": [
       "<div>\n",
       "<style scoped>\n",
       "    .dataframe tbody tr th:only-of-type {\n",
       "        vertical-align: middle;\n",
       "    }\n",
       "\n",
       "    .dataframe tbody tr th {\n",
       "        vertical-align: top;\n",
       "    }\n",
       "\n",
       "    .dataframe thead th {\n",
       "        text-align: right;\n",
       "    }\n",
       "</style>\n",
       "<table border=\"1\" class=\"dataframe\">\n",
       "  <thead>\n",
       "    <tr style=\"text-align: right;\">\n",
       "      <th></th>\n",
       "      <th>QID</th>\n",
       "      <th>AGE</th>\n",
       "      <th>IDEO3</th>\n",
       "      <th>EDUC</th>\n",
       "      <th>INCOME</th>\n",
       "      <th>RELIG</th>\n",
       "      <th>PID7</th>\n",
       "      <th>MALE</th>\n",
       "      <th>WHITE</th>\n",
       "      <th>RACE</th>\n",
       "      <th>...</th>\n",
       "      <th>badelite_n</th>\n",
       "      <th>goodpeople_n</th>\n",
       "      <th>badactor</th>\n",
       "      <th>badelite</th>\n",
       "      <th>goodpeople</th>\n",
       "      <th>populism</th>\n",
       "      <th>STUDY</th>\n",
       "      <th>TEXT</th>\n",
       "      <th>TREATMENT</th>\n",
       "      <th>IDEO</th>\n",
       "    </tr>\n",
       "  </thead>\n",
       "  <tbody>\n",
       "    <tr>\n",
       "      <th>0</th>\n",
       "      <td>R_006siEFaAZgOBNz</td>\n",
       "      <td>35-44</td>\n",
       "      <td>Moderate</td>\n",
       "      <td>College graduate</td>\n",
       "      <td>Between $100,000 and $149,999</td>\n",
       "      <td>None/Not Religious</td>\n",
       "      <td>Independent</td>\n",
       "      <td>female</td>\n",
       "      <td>White</td>\n",
       "      <td>White</td>\n",
       "      <td>...</td>\n",
       "      <td>NaN</td>\n",
       "      <td>NaN</td>\n",
       "      <td>NaN</td>\n",
       "      <td>NaN</td>\n",
       "      <td>NaN</td>\n",
       "      <td>0</td>\n",
       "      <td>March2016</td>\n",
       "      <td></td>\n",
       "      <td>0.0</td>\n",
       "      <td>NaN</td>\n",
       "    </tr>\n",
       "    <tr>\n",
       "      <th>1</th>\n",
       "      <td>R_00Oelnrg2pBKbNr</td>\n",
       "      <td>18-24</td>\n",
       "      <td>Liberal</td>\n",
       "      <td>Some college</td>\n",
       "      <td>Under $15,000</td>\n",
       "      <td>Atheist</td>\n",
       "      <td>Strong Democrat</td>\n",
       "      <td>female</td>\n",
       "      <td>White</td>\n",
       "      <td>White</td>\n",
       "      <td>...</td>\n",
       "      <td>1.0</td>\n",
       "      <td>0.0</td>\n",
       "      <td>1.0</td>\n",
       "      <td>1.0</td>\n",
       "      <td>0.0</td>\n",
       "      <td>0</td>\n",
       "      <td>March2016</td>\n",
       "      <td>businessmen Businessmen care about the economy...</td>\n",
       "      <td>1.0</td>\n",
       "      <td>NaN</td>\n",
       "    </tr>\n",
       "    <tr>\n",
       "      <th>2</th>\n",
       "      <td>R_01UYcK9kRaI7x1r</td>\n",
       "      <td>65+</td>\n",
       "      <td>Conservative</td>\n",
       "      <td>Graduate degree</td>\n",
       "      <td>Between $100,000 and $149,999</td>\n",
       "      <td>Jewish</td>\n",
       "      <td>Independent</td>\n",
       "      <td>male</td>\n",
       "      <td>White</td>\n",
       "      <td>White</td>\n",
       "      <td>...</td>\n",
       "      <td>1.0</td>\n",
       "      <td>0.0</td>\n",
       "      <td>1.0</td>\n",
       "      <td>1.0</td>\n",
       "      <td>1.0</td>\n",
       "      <td>1</td>\n",
       "      <td>March2016</td>\n",
       "      <td>weakness of our president - he invited it firs...</td>\n",
       "      <td>0.0</td>\n",
       "      <td>NaN</td>\n",
       "    </tr>\n",
       "    <tr>\n",
       "      <th>3</th>\n",
       "      <td>R_02G5dWQ3ydwPJNb</td>\n",
       "      <td>45-54</td>\n",
       "      <td>Liberal</td>\n",
       "      <td>High School/GED</td>\n",
       "      <td>Between $50,000 and $74,999</td>\n",
       "      <td>Other</td>\n",
       "      <td>Independent leaning Republican</td>\n",
       "      <td>male</td>\n",
       "      <td>White</td>\n",
       "      <td>White</td>\n",
       "      <td>...</td>\n",
       "      <td>0.0</td>\n",
       "      <td>0.0</td>\n",
       "      <td>1.0</td>\n",
       "      <td>0.0</td>\n",
       "      <td>0.0</td>\n",
       "      <td>0</td>\n",
       "      <td>March2016</td>\n",
       "      <td>Isis Terrism can not be tolerated in any count...</td>\n",
       "      <td>1.0</td>\n",
       "      <td>NaN</td>\n",
       "    </tr>\n",
       "    <tr>\n",
       "      <th>4</th>\n",
       "      <td>R_02kdZfIPePAY8y9</td>\n",
       "      <td>18-24</td>\n",
       "      <td>Liberal</td>\n",
       "      <td>High School/GED</td>\n",
       "      <td>$200,000 or more</td>\n",
       "      <td>Other</td>\n",
       "      <td>Other</td>\n",
       "      <td>female</td>\n",
       "      <td>White</td>\n",
       "      <td>White</td>\n",
       "      <td>...</td>\n",
       "      <td>1.0</td>\n",
       "      <td>0.0</td>\n",
       "      <td>1.0</td>\n",
       "      <td>1.0</td>\n",
       "      <td>0.5</td>\n",
       "      <td>1</td>\n",
       "      <td>March2016</td>\n",
       "      <td>White people, cishet people, abled people, etc...</td>\n",
       "      <td>1.0</td>\n",
       "      <td>NaN</td>\n",
       "    </tr>\n",
       "  </tbody>\n",
       "</table>\n",
       "<p>5 rows × 25 columns</p>\n",
       "</div>"
      ],
      "text/plain": [
       "                 QID    AGE         IDEO3              EDUC  \\\n",
       "0  R_006siEFaAZgOBNz  35-44      Moderate  College graduate   \n",
       "1  R_00Oelnrg2pBKbNr  18-24       Liberal      Some college   \n",
       "2  R_01UYcK9kRaI7x1r    65+  Conservative   Graduate degree   \n",
       "3  R_02G5dWQ3ydwPJNb  45-54       Liberal   High School/GED   \n",
       "4  R_02kdZfIPePAY8y9  18-24       Liberal   High School/GED   \n",
       "\n",
       "                          INCOME               RELIG  \\\n",
       "0  Between $100,000 and $149,999  None/Not Religious   \n",
       "1                  Under $15,000             Atheist   \n",
       "2  Between $100,000 and $149,999              Jewish   \n",
       "3    Between $50,000 and $74,999               Other   \n",
       "4               $200,000 or more               Other   \n",
       "\n",
       "                             PID7    MALE  WHITE   RACE  ... badelite_n  \\\n",
       "0                     Independent  female  White  White  ...        NaN   \n",
       "1                 Strong Democrat  female  White  White  ...        1.0   \n",
       "2                     Independent    male  White  White  ...        1.0   \n",
       "3  Independent leaning Republican    male  White  White  ...        0.0   \n",
       "4                           Other  female  White  White  ...        1.0   \n",
       "\n",
       "   goodpeople_n  badactor  badelite  goodpeople  populism      STUDY  \\\n",
       "0           NaN       NaN       NaN         NaN         0  March2016   \n",
       "1           0.0       1.0       1.0         0.0         0  March2016   \n",
       "2           0.0       1.0       1.0         1.0         1  March2016   \n",
       "3           0.0       1.0       0.0         0.0         0  March2016   \n",
       "4           0.0       1.0       1.0         0.5         1  March2016   \n",
       "\n",
       "                                                TEXT  TREATMENT  IDEO  \n",
       "0                                                           0.0   NaN  \n",
       "1  businessmen Businessmen care about the economy...        1.0   NaN  \n",
       "2  weakness of our president - he invited it firs...        0.0   NaN  \n",
       "3  Isis Terrism can not be tolerated in any count...        1.0   NaN  \n",
       "4  White people, cishet people, abled people, etc...        1.0   NaN  \n",
       "\n",
       "[5 rows x 25 columns]"
      ]
     },
     "execution_count": 6,
     "metadata": {},
     "output_type": "execute_result"
    }
   ],
   "source": [
    "jdf.head()"
   ]
  },
  {
   "cell_type": "code",
   "execution_count": 7,
   "metadata": {},
   "outputs": [
    {
     "name": "stdout",
     "output_type": "stream",
     "text": [
      "  nan\n",
      "businessmen Businessmen care about the economy and not much else.  Economic decisions should take into account inequalities in addition to financial growth. 0.0\n",
      "weakness of our president - he invited it first he drew a red line for Syria and did nothing when they crossed it.\\\\then he called ISIS a JV team and still refuses to identify radical islamic terrorists as what they are 1.0\n",
      "Isis Terrism can not be tolerated in any country. Action should be taken to prevent this. 0.0\n",
      "White people, cishet people, abled people, etc The ruling class in general needs to listen to oppressed classes about how to treat them, include them, etc. Everyone needs to be more open-minded and considerate of other people, and ask more \"how can I help others?\" when it comes to helping the cause of the oppressed. 0.5\n",
      "Whites Slavery selln blacks to the whites lake of pay no privice 0.0\n",
      "aclo,freedom foundation any organization that hates GOD you can't hate GOD and still believe that any good in the world can last.moral values come from him.you are not a law unto yourself.you have to be accountable and respect a higher power than yourself. 0.0\n",
      "pay raise gaps better pay equality and lower food prices 0.0\n",
      "Republican party policies Republicans are allowing the planet to be destroyed 0.0\n",
      "I have no idea This world needs a lot of changes and it needs to be done NOW 0.0\n",
      "Government The government doesn't do anything to help further education and seems to support science denial 0.0\n",
      "Terrorists Not  one group of people is responsible, to believe that is racism itself. Blame the people who do it not a specific group of people. 0.0\n",
      "senators they think of themselves and only themselves 0.0\n",
      "Whoever decides how our budget is spent- keep money in America to help our own citizens- then take it elsewhere to help other countries More money towards education\\\\Less money towards war, troops 1.0\n",
      "The middle class was really hurt by the great recession in 2007 and have not recovered from it. The great recession hurt a lot of the middle class that lost a lot of money in the stock market and 401k's at their work place. I think that the government should send everyone that works a check for $600 to help the middle class. It was done twice during the Bush administration and I think it would go a long ways to helping out the middle class. 0.5\n",
      "rich take their money and split it up amongst the poor 0.0\n",
      "a lot of attacks a culture that wants to destroy the united states 0.0\n",
      "Goverment They control bsnks 0.0\n",
      "BIG PHARM, Doctors who lack any compassion psychological exams for all medical professionals. constant monitoring of medical professionals and their actions. Cut the power of Big Pharm and all their greedy actions. Stop dangerous drugs and Stop all drug dependencies that Big Pharm creates 0.0\n",
      "The tax system To many loopholes 0.0\n",
      "It goes back to when prayer was taken out of school, and our children started being taught we come from monkeys, and when we started rejecting God. When you turn your back on God there are consequences, but sadly people don;'t want to hear that. All they want to hear is that anything goes, do whatever you want. Very sad attitude in our country today. We need to get back to God as a nation. People say How can God let bad things happen to good people,. The thing is NO ONE IS GOOD. People do good things, but that does not make them good. ALL have sinned and come short of the glory of God. But again people don;t want to hear that, and that is a shame. We need to get down on our knees and repent and get back on track. America is in trouble and we need to realize that and stop this attitude that anything goes. There is right and wrong and we have forgotten that as a nation. We need to forgive each other, get back to church and reading God's word and act on it. It's that simple! 1.0\n",
      "mankind We should all do our part to make a difference. 1.0\n",
      "increase in government wages for the government. because the government can't work well to fix anything that they need to. 0.0\n",
      "Radical Muslims. They believe that the Quran tells them to kill infidels, so that is what they are trying to do. 0.0\n",
      "ignorant and mentally unstable nothing except gret rid of the groups that they belong to 0.0\n",
      "Lost of jobs i think we need to get more jobs in the area 1.0\n",
      "rich local politicians they should be removed from office 0.0\n",
      "Weak US Military \\\\intolerance to others I am not really sure what should be done. My opinion is that we need to develop our military and use outside companies who have specialists along with our government specialist to help defeat against further attacks. 1.0\n",
      "atheists, immigrants refuse to adapt to our ways and demand it be the way of a few instead of the way of the many 1.0\n",
      "Not sure but there are many things that cause it.  Never studied the causes in detail only know its one of the great problems in the US. Not sure. 0.0\n"
     ]
    },
    {
     "ename": "KeyboardInterrupt",
     "evalue": "Interrupted by user",
     "output_type": "error",
     "traceback": [
      "\u001b[0;31m---------------------------------------------------------------------------\u001b[0m",
      "\u001b[0;31mKeyboardInterrupt\u001b[0m                         Traceback (most recent call last)",
      "\u001b[0;32m<ipython-input-7-297c8cc51007>\u001b[0m in \u001b[0;36m<module>\u001b[0;34m\u001b[0m\n\u001b[1;32m      1\u001b[0m \u001b[0;32mfor\u001b[0m \u001b[0mi\u001b[0m\u001b[0;34m,\u001b[0m \u001b[0mrow\u001b[0m \u001b[0;32min\u001b[0m \u001b[0mjdf\u001b[0m\u001b[0;34m.\u001b[0m\u001b[0miterrows\u001b[0m\u001b[0;34m(\u001b[0m\u001b[0;34m)\u001b[0m\u001b[0;34m:\u001b[0m\u001b[0;34m\u001b[0m\u001b[0;34m\u001b[0m\u001b[0m\n\u001b[1;32m      2\u001b[0m     \u001b[0mprint\u001b[0m\u001b[0;34m(\u001b[0m\u001b[0mrow\u001b[0m\u001b[0;34m[\u001b[0m\u001b[0;34m'TEXT'\u001b[0m\u001b[0;34m]\u001b[0m\u001b[0;34m,\u001b[0m \u001b[0mrow\u001b[0m\u001b[0;34m[\u001b[0m\u001b[0;34m'goodpeople'\u001b[0m\u001b[0;34m]\u001b[0m \u001b[0;34m)\u001b[0m\u001b[0;34m\u001b[0m\u001b[0;34m\u001b[0m\u001b[0m\n\u001b[0;32m----> 3\u001b[0;31m     \u001b[0minput\u001b[0m\u001b[0;34m(\u001b[0m\u001b[0;34m)\u001b[0m\u001b[0;34m\u001b[0m\u001b[0;34m\u001b[0m\u001b[0m\n\u001b[0m",
      "\u001b[0;32m/usr/lib/python3/dist-packages/ipykernel/kernelbase.py\u001b[0m in \u001b[0;36mraw_input\u001b[0;34m(self, prompt)\u001b[0m\n\u001b[1;32m    858\u001b[0m                 \u001b[0;34m\"raw_input was called, but this frontend does not support input requests.\"\u001b[0m\u001b[0;34m\u001b[0m\u001b[0;34m\u001b[0m\u001b[0m\n\u001b[1;32m    859\u001b[0m             )\n\u001b[0;32m--> 860\u001b[0;31m         return self._input_request(str(prompt),\n\u001b[0m\u001b[1;32m    861\u001b[0m             \u001b[0mself\u001b[0m\u001b[0;34m.\u001b[0m\u001b[0m_parent_ident\u001b[0m\u001b[0;34m,\u001b[0m\u001b[0;34m\u001b[0m\u001b[0;34m\u001b[0m\u001b[0m\n\u001b[1;32m    862\u001b[0m             \u001b[0mself\u001b[0m\u001b[0;34m.\u001b[0m\u001b[0m_parent_header\u001b[0m\u001b[0;34m,\u001b[0m\u001b[0;34m\u001b[0m\u001b[0;34m\u001b[0m\u001b[0m\n",
      "\u001b[0;32m/usr/lib/python3/dist-packages/ipykernel/kernelbase.py\u001b[0m in \u001b[0;36m_input_request\u001b[0;34m(self, prompt, ident, parent, password)\u001b[0m\n\u001b[1;32m    891\u001b[0m             \u001b[0;32mexcept\u001b[0m \u001b[0mKeyboardInterrupt\u001b[0m\u001b[0;34m:\u001b[0m\u001b[0;34m\u001b[0m\u001b[0;34m\u001b[0m\u001b[0m\n\u001b[1;32m    892\u001b[0m                 \u001b[0;31m# re-raise KeyboardInterrupt, to truncate traceback\u001b[0m\u001b[0;34m\u001b[0m\u001b[0;34m\u001b[0m\u001b[0;34m\u001b[0m\u001b[0m\n\u001b[0;32m--> 893\u001b[0;31m                 \u001b[0;32mraise\u001b[0m \u001b[0mKeyboardInterrupt\u001b[0m\u001b[0;34m(\u001b[0m\u001b[0;34m\"Interrupted by user\"\u001b[0m\u001b[0;34m)\u001b[0m \u001b[0;32mfrom\u001b[0m \u001b[0;32mNone\u001b[0m\u001b[0;34m\u001b[0m\u001b[0;34m\u001b[0m\u001b[0m\n\u001b[0m\u001b[1;32m    894\u001b[0m             \u001b[0;32melse\u001b[0m\u001b[0;34m:\u001b[0m\u001b[0;34m\u001b[0m\u001b[0;34m\u001b[0m\u001b[0m\n\u001b[1;32m    895\u001b[0m                 \u001b[0;32mbreak\u001b[0m\u001b[0;34m\u001b[0m\u001b[0;34m\u001b[0m\u001b[0m\n",
      "\u001b[0;31mKeyboardInterrupt\u001b[0m: Interrupted by user"
     ]
    }
   ],
   "source": [
    "for i, row in jdf.iterrows():\n",
    "    print(row['text'], row['goodpeople'] )\n",
    "    input()"
   ]
  },
  {
   "cell_type": "code",
   "execution_count": 104,
   "metadata": {},
   "outputs": [],
   "source": [
    "df = pd.read_pickle('data/badeliterationale/ds.pkl')\n",
    "df.head().to_pickle('data/badeliterationalemini/ds.pkl')"
   ]
  },
  {
   "cell_type": "code",
   "execution_count": 113,
   "metadata": {},
   "outputs": [],
   "source": [
    "pd.read_pickle('data/badelite/ds.pkl')\n",
    "from lmtools.cost_estimator import cost_approximation as ca\n"
   ]
  },
  {
   "cell_type": "code",
   "execution_count": 118,
   "metadata": {},
   "outputs": [
    {
     "name": "stderr",
     "output_type": "stream",
     "text": [
      "Token indices sequence length is longer than the specified maximum sequence length for this model (1200 > 1024). Running this sequence through the model will result in indexing errors\n"
     ]
    },
    {
     "name": "stdout",
     "output_type": "stream",
     "text": [
      "Total number of tokens: 1608520\n",
      "Cost for engine davinci: 96.5112\n",
      "Max token count per prompt: 1547\n"
     ]
    }
   ],
   "source": [
    "ca(pd.read_pickle('data/goodpeoplerationale/ds.pkl'), 'davinci')"
   ]
  },
  {
   "cell_type": "code",
   "execution_count": 119,
   "metadata": {},
   "outputs": [
    {
     "ename": "InvalidRequestError",
     "evalue": "Too many parallel completions requested. You submitted 1000 prompts, but you can currently request up to at most a total of 20). Please contact support@openai.com and tell us about your use-case if you would like this limit increased. (HINT: if you want to just evaluate probabilities without generating new text, you can submit more prompts if you set 'max_tokens' to 0.)",
     "output_type": "error",
     "traceback": [
      "\u001b[0;31m---------------------------------------------------------------------------\u001b[0m",
      "\u001b[0;31mInvalidRequestError\u001b[0m                       Traceback (most recent call last)",
      "\u001b[0;32m<ipython-input-119-f7ea78582d7d>\u001b[0m in \u001b[0;36m<module>\u001b[0;34m\u001b[0m\n\u001b[1;32m      1\u001b[0m \u001b[0;32mimport\u001b[0m \u001b[0mopenai\u001b[0m\u001b[0;34m\u001b[0m\u001b[0;34m\u001b[0m\u001b[0m\n\u001b[0;32m----> 2\u001b[0;31m \u001b[0mopenai\u001b[0m\u001b[0;34m.\u001b[0m\u001b[0mCompletion\u001b[0m\u001b[0;34m.\u001b[0m\u001b[0mcreate\u001b[0m\u001b[0;34m(\u001b[0m\u001b[0mengine\u001b[0m\u001b[0;34m=\u001b[0m\u001b[0;34m'davinci'\u001b[0m\u001b[0;34m,\u001b[0m \u001b[0mprompt\u001b[0m\u001b[0;34m=\u001b[0m\u001b[0;34m[\u001b[0m\u001b[0;34m'help'\u001b[0m\u001b[0;34m]\u001b[0m\u001b[0;34m*\u001b[0m\u001b[0;36m1000\u001b[0m\u001b[0;34m)\u001b[0m\u001b[0;34m\u001b[0m\u001b[0;34m\u001b[0m\u001b[0m\n\u001b[0m",
      "\u001b[0;32m~/.local/lib/python3.8/site-packages/openai/api_resources/completion.py\u001b[0m in \u001b[0;36mcreate\u001b[0;34m(cls, *args, **kwargs)\u001b[0m\n\u001b[1;32m     29\u001b[0m         \u001b[0;32mwhile\u001b[0m \u001b[0;32mTrue\u001b[0m\u001b[0;34m:\u001b[0m\u001b[0;34m\u001b[0m\u001b[0;34m\u001b[0m\u001b[0m\n\u001b[1;32m     30\u001b[0m             \u001b[0;32mtry\u001b[0m\u001b[0;34m:\u001b[0m\u001b[0;34m\u001b[0m\u001b[0;34m\u001b[0m\u001b[0m\n\u001b[0;32m---> 31\u001b[0;31m                 \u001b[0;32mreturn\u001b[0m \u001b[0msuper\u001b[0m\u001b[0;34m(\u001b[0m\u001b[0;34m)\u001b[0m\u001b[0;34m.\u001b[0m\u001b[0mcreate\u001b[0m\u001b[0;34m(\u001b[0m\u001b[0;34m*\u001b[0m\u001b[0margs\u001b[0m\u001b[0;34m,\u001b[0m \u001b[0;34m**\u001b[0m\u001b[0mkwargs\u001b[0m\u001b[0;34m)\u001b[0m\u001b[0;34m\u001b[0m\u001b[0;34m\u001b[0m\u001b[0m\n\u001b[0m\u001b[1;32m     32\u001b[0m             \u001b[0;32mexcept\u001b[0m \u001b[0mTryAgain\u001b[0m \u001b[0;32mas\u001b[0m \u001b[0me\u001b[0m\u001b[0;34m:\u001b[0m\u001b[0;34m\u001b[0m\u001b[0;34m\u001b[0m\u001b[0m\n\u001b[1;32m     33\u001b[0m                 \u001b[0;32mif\u001b[0m \u001b[0mtimeout\u001b[0m \u001b[0;32mis\u001b[0m \u001b[0;32mnot\u001b[0m \u001b[0;32mNone\u001b[0m \u001b[0;32mand\u001b[0m \u001b[0mtime\u001b[0m\u001b[0;34m.\u001b[0m\u001b[0mtime\u001b[0m\u001b[0;34m(\u001b[0m\u001b[0;34m)\u001b[0m \u001b[0;34m>\u001b[0m \u001b[0mstart\u001b[0m \u001b[0;34m+\u001b[0m \u001b[0mtimeout\u001b[0m\u001b[0;34m:\u001b[0m\u001b[0;34m\u001b[0m\u001b[0;34m\u001b[0m\u001b[0m\n",
      "\u001b[0;32m~/.local/lib/python3.8/site-packages/openai/api_resources/abstract/engine_api_resource.py\u001b[0m in \u001b[0;36mcreate\u001b[0;34m(cls, api_key, api_base, idempotency_key, request_id, api_version, organization, **params)\u001b[0m\n\u001b[1;32m     64\u001b[0m         \u001b[0murl\u001b[0m \u001b[0;34m=\u001b[0m \u001b[0mcls\u001b[0m\u001b[0;34m.\u001b[0m\u001b[0mclass_url\u001b[0m\u001b[0;34m(\u001b[0m\u001b[0mengine\u001b[0m\u001b[0;34m)\u001b[0m\u001b[0;34m\u001b[0m\u001b[0;34m\u001b[0m\u001b[0m\n\u001b[1;32m     65\u001b[0m         \u001b[0mheaders\u001b[0m \u001b[0;34m=\u001b[0m \u001b[0mutil\u001b[0m\u001b[0;34m.\u001b[0m\u001b[0mpopulate_headers\u001b[0m\u001b[0;34m(\u001b[0m\u001b[0midempotency_key\u001b[0m\u001b[0;34m,\u001b[0m \u001b[0mrequest_id\u001b[0m\u001b[0;34m)\u001b[0m\u001b[0;34m\u001b[0m\u001b[0;34m\u001b[0m\u001b[0m\n\u001b[0;32m---> 66\u001b[0;31m         response, _, api_key = requestor.request(\n\u001b[0m\u001b[1;32m     67\u001b[0m             \u001b[0;34m\"post\"\u001b[0m\u001b[0;34m,\u001b[0m \u001b[0murl\u001b[0m\u001b[0;34m,\u001b[0m \u001b[0mparams\u001b[0m\u001b[0;34m,\u001b[0m \u001b[0mheaders\u001b[0m\u001b[0;34m,\u001b[0m \u001b[0mstream\u001b[0m\u001b[0;34m=\u001b[0m\u001b[0mstream\u001b[0m\u001b[0;34m\u001b[0m\u001b[0;34m\u001b[0m\u001b[0m\n\u001b[1;32m     68\u001b[0m         )\n",
      "\u001b[0;32m~/.local/lib/python3.8/site-packages/openai/api_requestor.py\u001b[0m in \u001b[0;36mrequest\u001b[0;34m(self, method, url, params, headers, stream)\u001b[0m\n\u001b[1;32m    127\u001b[0m             \u001b[0mmethod\u001b[0m\u001b[0;34m.\u001b[0m\u001b[0mlower\u001b[0m\u001b[0;34m(\u001b[0m\u001b[0;34m)\u001b[0m\u001b[0;34m,\u001b[0m \u001b[0murl\u001b[0m\u001b[0;34m,\u001b[0m \u001b[0mparams\u001b[0m\u001b[0;34m,\u001b[0m \u001b[0mheaders\u001b[0m\u001b[0;34m,\u001b[0m \u001b[0mstream\u001b[0m\u001b[0;34m=\u001b[0m\u001b[0mstream\u001b[0m\u001b[0;34m\u001b[0m\u001b[0;34m\u001b[0m\u001b[0m\n\u001b[1;32m    128\u001b[0m         )\n\u001b[0;32m--> 129\u001b[0;31m         \u001b[0mresp\u001b[0m \u001b[0;34m=\u001b[0m \u001b[0mself\u001b[0m\u001b[0;34m.\u001b[0m\u001b[0minterpret_response\u001b[0m\u001b[0;34m(\u001b[0m\u001b[0mrbody\u001b[0m\u001b[0;34m,\u001b[0m \u001b[0mrcode\u001b[0m\u001b[0;34m,\u001b[0m \u001b[0mrheaders\u001b[0m\u001b[0;34m,\u001b[0m \u001b[0mstream\u001b[0m\u001b[0;34m=\u001b[0m\u001b[0mstream\u001b[0m\u001b[0;34m)\u001b[0m\u001b[0;34m\u001b[0m\u001b[0;34m\u001b[0m\u001b[0m\n\u001b[0m\u001b[1;32m    130\u001b[0m         \u001b[0;32mreturn\u001b[0m \u001b[0mresp\u001b[0m\u001b[0;34m,\u001b[0m \u001b[0mstream\u001b[0m\u001b[0;34m,\u001b[0m \u001b[0mmy_api_key\u001b[0m\u001b[0;34m\u001b[0m\u001b[0;34m\u001b[0m\u001b[0m\n\u001b[1;32m    131\u001b[0m \u001b[0;34m\u001b[0m\u001b[0m\n",
      "\u001b[0;32m~/.local/lib/python3.8/site-packages/openai/api_requestor.py\u001b[0m in \u001b[0;36minterpret_response\u001b[0;34m(self, rbody, rcode, rheaders, stream)\u001b[0m\n\u001b[1;32m    346\u001b[0m             )\n\u001b[1;32m    347\u001b[0m         \u001b[0;32melse\u001b[0m\u001b[0;34m:\u001b[0m\u001b[0;34m\u001b[0m\u001b[0;34m\u001b[0m\u001b[0m\n\u001b[0;32m--> 348\u001b[0;31m             \u001b[0;32mreturn\u001b[0m \u001b[0mself\u001b[0m\u001b[0;34m.\u001b[0m\u001b[0minterpret_response_line\u001b[0m\u001b[0;34m(\u001b[0m\u001b[0mrbody\u001b[0m\u001b[0;34m,\u001b[0m \u001b[0mrcode\u001b[0m\u001b[0;34m,\u001b[0m \u001b[0mrheaders\u001b[0m\u001b[0;34m,\u001b[0m \u001b[0mstream\u001b[0m\u001b[0;34m)\u001b[0m\u001b[0;34m\u001b[0m\u001b[0;34m\u001b[0m\u001b[0m\n\u001b[0m\u001b[1;32m    349\u001b[0m \u001b[0;34m\u001b[0m\u001b[0m\n\u001b[1;32m    350\u001b[0m     \u001b[0;32mdef\u001b[0m \u001b[0minterpret_response_line\u001b[0m\u001b[0;34m(\u001b[0m\u001b[0mself\u001b[0m\u001b[0;34m,\u001b[0m \u001b[0mrbody\u001b[0m\u001b[0;34m,\u001b[0m \u001b[0mrcode\u001b[0m\u001b[0;34m,\u001b[0m \u001b[0mrheaders\u001b[0m\u001b[0;34m,\u001b[0m \u001b[0mstream\u001b[0m\u001b[0;34m=\u001b[0m\u001b[0;32mFalse\u001b[0m\u001b[0;34m)\u001b[0m\u001b[0;34m:\u001b[0m\u001b[0;34m\u001b[0m\u001b[0;34m\u001b[0m\u001b[0m\n",
      "\u001b[0;32m~/.local/lib/python3.8/site-packages/openai/api_requestor.py\u001b[0m in \u001b[0;36minterpret_response_line\u001b[0;34m(self, rbody, rcode, rheaders, stream)\u001b[0m\n\u001b[1;32m    365\u001b[0m         \u001b[0mstream_error\u001b[0m \u001b[0;34m=\u001b[0m \u001b[0mstream\u001b[0m \u001b[0;32mand\u001b[0m \u001b[0;34m\"error\"\u001b[0m \u001b[0;32min\u001b[0m \u001b[0mresp\u001b[0m\u001b[0;34m.\u001b[0m\u001b[0mdata\u001b[0m\u001b[0;34m\u001b[0m\u001b[0;34m\u001b[0m\u001b[0m\n\u001b[1;32m    366\u001b[0m         \u001b[0;32mif\u001b[0m \u001b[0mstream_error\u001b[0m \u001b[0;32mor\u001b[0m \u001b[0;32mnot\u001b[0m \u001b[0;36m200\u001b[0m \u001b[0;34m<=\u001b[0m \u001b[0mrcode\u001b[0m \u001b[0;34m<\u001b[0m \u001b[0;36m300\u001b[0m\u001b[0;34m:\u001b[0m\u001b[0;34m\u001b[0m\u001b[0;34m\u001b[0m\u001b[0m\n\u001b[0;32m--> 367\u001b[0;31m             raise self.handle_error_response(\n\u001b[0m\u001b[1;32m    368\u001b[0m                 \u001b[0mrbody\u001b[0m\u001b[0;34m,\u001b[0m \u001b[0mrcode\u001b[0m\u001b[0;34m,\u001b[0m \u001b[0mresp\u001b[0m\u001b[0;34m.\u001b[0m\u001b[0mdata\u001b[0m\u001b[0;34m,\u001b[0m \u001b[0mrheaders\u001b[0m\u001b[0;34m,\u001b[0m \u001b[0mstream_error\u001b[0m\u001b[0;34m=\u001b[0m\u001b[0mstream_error\u001b[0m\u001b[0;34m\u001b[0m\u001b[0;34m\u001b[0m\u001b[0m\n\u001b[1;32m    369\u001b[0m             )\n",
      "\u001b[0;31mInvalidRequestError\u001b[0m: Too many parallel completions requested. You submitted 1000 prompts, but you can currently request up to at most a total of 20). Please contact support@openai.com and tell us about your use-case if you would like this limit increased. (HINT: if you want to just evaluate probabilities without generating new text, you can submit more prompts if you set 'max_tokens' to 0.)"
     ]
    }
   ],
   "source": [
    "import openai\n",
    "openai.Completion.create(engine='davinci', prompt='help'*1000)"
   ]
  },
  {
   "cell_type": "code",
   "execution_count": null,
   "metadata": {},
   "outputs": [],
   "source": []
  }
 ],
 "metadata": {
  "interpreter": {
   "hash": "31f2aee4e71d21fbe5cf8b01ff0e069b9275f58929596ceb00d14d90e3e16cd6"
  },
  "kernelspec": {
   "display_name": "'Python Interactive'",
   "language": "python",
   "name": "python3"
  },
  "language_info": {
   "codemirror_mode": {
    "name": "ipython",
    "version": 3
   },
   "file_extension": ".py",
   "mimetype": "text/x-python",
   "name": "python",
   "nbconvert_exporter": "python",
   "pygments_lexer": "ipython3",
   "version": "3.8.10"
  },
  "orig_nbformat": 4
 },
 "nbformat": 4,
 "nbformat_minor": 2
}
